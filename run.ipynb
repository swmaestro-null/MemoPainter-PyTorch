{
 "cells": [
  {
   "cell_type": "code",
   "execution_count": 12,
   "source": [
    "import gc,torch\r\n",
    "gc.collect()\r\n",
    "torch.cuda.empty_cache()"
   ],
   "outputs": [],
   "metadata": {}
  },
  {
   "cell_type": "code",
   "execution_count": 30,
   "source": [
    "### Color feature : color distribution\r\n",
    "# For pokemon\r\n",
    "# 메모리 사이즈 982 -> 865로 줄임, BATCH SIZE 4->2로 줄임, epoch 100->30으로 줄임\r\n",
    "!python main.py --color_info dist --color_feat_dim 313 --mem_size 865 --top_k 256 --train_data_path ./pokemon --test_data_path ./test_data --alpha 0.3 --color_thres 0.5 --epoch 30 --batch_size 2"
   ],
   "outputs": [
    {
     "output_type": "stream",
     "name": "stdout",
     "text": [
      "^C\n"
     ]
    }
   ],
   "metadata": {}
  },
  {
   "cell_type": "code",
   "execution_count": null,
   "source": [
    "!python main.py --color_info dist --color_feat_dim 313 --mem_size 7861 --train_data_path ./oxford102/train --test_data_path ./oxford102/temp_test --epoch 30 --model_save_freq 2 --color_thres 0.8 --data_name Flower"
   ],
   "outputs": [],
   "metadata": {}
  },
  {
   "cell_type": "code",
   "execution_count": null,
   "source": [
    "!python main.py --color_info RGB --color_feat_dim 30 --color_thres 8 --train_data_path ./pokemon/ --test_data_path ./test_data --epoch 100 --alpha 0.3 --top_k 32 --data_name pokemon"
   ],
   "outputs": [],
   "metadata": {}
  },
  {
   "cell_type": "code",
   "execution_count": null,
   "source": [
    "!python main.py --color_info RGB --color_feat_dim 30 --color_thres 10 --train_data_path ./oxford102/train --test_data_path ./oxford102/temp_test --epoch 30 --alpha 0.1 --top_k 32 --mem_size 7861 --model_save_freq 2 --data_name Flower"
   ],
   "outputs": [],
   "metadata": {}
  },
  {
   "cell_type": "code",
   "execution_count": null,
   "source": [
    "!python main.py --color_info dist --color_feat_dim 313 --mem_size 982 --test_data_path ./test_data/ --mem_model ./model/pokemon/memory_098.pt --generator_model ./model/pokemon/generator_098.pt --data_name poke_test --mode test"
   ],
   "outputs": [],
   "metadata": {}
  },
  {
   "cell_type": "code",
   "execution_count": null,
   "source": [
    "!python main.py --color_feat_dim 30 --color_info RGB --test_data_path ./pokemon_test/ --data_name poke_test --mem_model ./model/pokemon/memory_099.pt --generator_model ./model/pokemon/generator_099.pt --mode test"
   ],
   "outputs": [],
   "metadata": {}
  },
  {
   "cell_type": "code",
   "execution_count": null,
   "source": [
    "!python main.py --color_feat_dim 30 --color_info RGB --test_data_path ./oxford102/test/ --data_name flower_test --mem_model ./model/Flower/memory_028.pt --genarator_model ./model/Flower/generator_028.pt --mode test"
   ],
   "outputs": [],
   "metadata": {}
  }
 ],
 "metadata": {
  "orig_nbformat": 4,
  "language_info": {
   "name": "python",
   "version": "3.9.4",
   "mimetype": "text/x-python",
   "codemirror_mode": {
    "name": "ipython",
    "version": 3
   },
   "pygments_lexer": "ipython3",
   "nbconvert_exporter": "python",
   "file_extension": ".py"
  },
  "kernelspec": {
   "name": "python3",
   "display_name": "Python 3.9.4 64-bit"
  },
  "interpreter": {
   "hash": "c089c3c6f5a7aef1d9048629a0ebec2ec1a6198c2ed33ce09377ed17bef4cbe6"
  }
 },
 "nbformat": 4,
 "nbformat_minor": 2
}